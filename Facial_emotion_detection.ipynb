{
  "nbformat": 4,
  "nbformat_minor": 0,
  "metadata": {
    "kernelspec": {
      "display_name": "Python 3",
      "language": "python",
      "name": "python3"
    },
    "language_info": {
      "codemirror_mode": {
        "name": "ipython",
        "version": 3
      },
      "file_extension": ".py",
      "mimetype": "text/x-python",
      "name": "python",
      "nbconvert_exporter": "python",
      "pygments_lexer": "ipython3",
      "version": "3.7.7"
    },
    "colab": {
      "name": "Facial emotion detection.ipynb",
      "provenance": [],
      "collapsed_sections": []
    },
    "accelerator": "GPU"
  },
  "cells": [
    {
      "cell_type": "code",
      "metadata": {
        "id": "lSABiNLPz_lM"
      },
      "source": [
        "import os\n",
        "import numpy as np\n",
        "import pandas as pd\n",
        "import tensorflow as tf\n",
        "from tensorflow import keras\n",
        "from tensorflow.keras.models import Sequential\n",
        "from tensorflow.keras.layers import Dense, Conv2D, MaxPooling2D, Dropout, Flatten"
      ],
      "execution_count": 1,
      "outputs": []
    },
    {
      "cell_type": "code",
      "metadata": {
        "colab": {
          "base_uri": "https://localhost:8080/"
        },
        "id": "M2oh1yO8hTqZ",
        "outputId": "2a48770d-7b51-4f96-b038-92ed9fd1484f"
      },
      "source": [
        "from google.colab import drive\r\n",
        "drive.mount('/content/drive')"
      ],
      "execution_count": 2,
      "outputs": [
        {
          "output_type": "stream",
          "text": [
            "Mounted at /content/drive\n"
          ],
          "name": "stdout"
        }
      ]
    },
    {
      "cell_type": "code",
      "metadata": {
        "colab": {
          "base_uri": "https://localhost:8080/"
        },
        "id": "jOy7V2MNhe_u",
        "outputId": "a130f08a-b27c-4c1e-fa1c-91fa4d986757"
      },
      "source": [
        "!ls \"/content/drive/My Drive/fer2013.csv\""
      ],
      "execution_count": 3,
      "outputs": [
        {
          "output_type": "stream",
          "text": [
            "'/content/drive/My Drive/fer2013.csv'\n"
          ],
          "name": "stdout"
        }
      ]
    },
    {
      "cell_type": "code",
      "metadata": {
        "colab": {
          "base_uri": "https://localhost:8080/",
          "height": 419
        },
        "id": "LTa9oEYlz_lV",
        "outputId": "bd4c378e-a096-4c59-b23e-623648ed5f7e"
      },
      "source": [
        "df = pd.read_csv('/content/drive/My Drive/fer2013.csv')\n",
        "df"
      ],
      "execution_count": 4,
      "outputs": [
        {
          "output_type": "execute_result",
          "data": {
            "text/html": [
              "<div>\n",
              "<style scoped>\n",
              "    .dataframe tbody tr th:only-of-type {\n",
              "        vertical-align: middle;\n",
              "    }\n",
              "\n",
              "    .dataframe tbody tr th {\n",
              "        vertical-align: top;\n",
              "    }\n",
              "\n",
              "    .dataframe thead th {\n",
              "        text-align: right;\n",
              "    }\n",
              "</style>\n",
              "<table border=\"1\" class=\"dataframe\">\n",
              "  <thead>\n",
              "    <tr style=\"text-align: right;\">\n",
              "      <th></th>\n",
              "      <th>emotion</th>\n",
              "      <th>pixels</th>\n",
              "      <th>Usage</th>\n",
              "    </tr>\n",
              "  </thead>\n",
              "  <tbody>\n",
              "    <tr>\n",
              "      <th>0</th>\n",
              "      <td>0</td>\n",
              "      <td>70 80 82 72 58 58 60 63 54 58 60 48 89 115 121...</td>\n",
              "      <td>Training</td>\n",
              "    </tr>\n",
              "    <tr>\n",
              "      <th>1</th>\n",
              "      <td>0</td>\n",
              "      <td>151 150 147 155 148 133 111 140 170 174 182 15...</td>\n",
              "      <td>Training</td>\n",
              "    </tr>\n",
              "    <tr>\n",
              "      <th>2</th>\n",
              "      <td>2</td>\n",
              "      <td>231 212 156 164 174 138 161 173 182 200 106 38...</td>\n",
              "      <td>Training</td>\n",
              "    </tr>\n",
              "    <tr>\n",
              "      <th>3</th>\n",
              "      <td>4</td>\n",
              "      <td>24 32 36 30 32 23 19 20 30 41 21 22 32 34 21 1...</td>\n",
              "      <td>Training</td>\n",
              "    </tr>\n",
              "    <tr>\n",
              "      <th>4</th>\n",
              "      <td>6</td>\n",
              "      <td>4 0 0 0 0 0 0 0 0 0 0 0 3 15 23 28 48 50 58 84...</td>\n",
              "      <td>Training</td>\n",
              "    </tr>\n",
              "    <tr>\n",
              "      <th>...</th>\n",
              "      <td>...</td>\n",
              "      <td>...</td>\n",
              "      <td>...</td>\n",
              "    </tr>\n",
              "    <tr>\n",
              "      <th>35882</th>\n",
              "      <td>6</td>\n",
              "      <td>50 36 17 22 23 29 33 39 34 37 37 37 39 43 48 5...</td>\n",
              "      <td>PrivateTest</td>\n",
              "    </tr>\n",
              "    <tr>\n",
              "      <th>35883</th>\n",
              "      <td>3</td>\n",
              "      <td>178 174 172 173 181 188 191 194 196 199 200 20...</td>\n",
              "      <td>PrivateTest</td>\n",
              "    </tr>\n",
              "    <tr>\n",
              "      <th>35884</th>\n",
              "      <td>0</td>\n",
              "      <td>17 17 16 23 28 22 19 17 25 26 20 24 31 19 27 9...</td>\n",
              "      <td>PrivateTest</td>\n",
              "    </tr>\n",
              "    <tr>\n",
              "      <th>35885</th>\n",
              "      <td>3</td>\n",
              "      <td>30 28 28 29 31 30 42 68 79 81 77 67 67 71 63 6...</td>\n",
              "      <td>PrivateTest</td>\n",
              "    </tr>\n",
              "    <tr>\n",
              "      <th>35886</th>\n",
              "      <td>2</td>\n",
              "      <td>19 13 14 12 13 16 21 33 50 57 71 84 97 108 122...</td>\n",
              "      <td>PrivateTest</td>\n",
              "    </tr>\n",
              "  </tbody>\n",
              "</table>\n",
              "<p>35887 rows × 3 columns</p>\n",
              "</div>"
            ],
            "text/plain": [
              "       emotion                                             pixels        Usage\n",
              "0            0  70 80 82 72 58 58 60 63 54 58 60 48 89 115 121...     Training\n",
              "1            0  151 150 147 155 148 133 111 140 170 174 182 15...     Training\n",
              "2            2  231 212 156 164 174 138 161 173 182 200 106 38...     Training\n",
              "3            4  24 32 36 30 32 23 19 20 30 41 21 22 32 34 21 1...     Training\n",
              "4            6  4 0 0 0 0 0 0 0 0 0 0 0 3 15 23 28 48 50 58 84...     Training\n",
              "...        ...                                                ...          ...\n",
              "35882        6  50 36 17 22 23 29 33 39 34 37 37 37 39 43 48 5...  PrivateTest\n",
              "35883        3  178 174 172 173 181 188 191 194 196 199 200 20...  PrivateTest\n",
              "35884        0  17 17 16 23 28 22 19 17 25 26 20 24 31 19 27 9...  PrivateTest\n",
              "35885        3  30 28 28 29 31 30 42 68 79 81 77 67 67 71 63 6...  PrivateTest\n",
              "35886        2  19 13 14 12 13 16 21 33 50 57 71 84 97 108 122...  PrivateTest\n",
              "\n",
              "[35887 rows x 3 columns]"
            ]
          },
          "metadata": {
            "tags": []
          },
          "execution_count": 4
        }
      ]
    },
    {
      "cell_type": "code",
      "metadata": {
        "colab": {
          "base_uri": "https://localhost:8080/",
          "height": 419
        },
        "id": "udmakzkOCSrM",
        "outputId": "5ec02ced-cd58-4646-c29d-f6c3e0497adc"
      },
      "source": [
        "df = df.dropna()\r\n",
        "df"
      ],
      "execution_count": 5,
      "outputs": [
        {
          "output_type": "execute_result",
          "data": {
            "text/html": [
              "<div>\n",
              "<style scoped>\n",
              "    .dataframe tbody tr th:only-of-type {\n",
              "        vertical-align: middle;\n",
              "    }\n",
              "\n",
              "    .dataframe tbody tr th {\n",
              "        vertical-align: top;\n",
              "    }\n",
              "\n",
              "    .dataframe thead th {\n",
              "        text-align: right;\n",
              "    }\n",
              "</style>\n",
              "<table border=\"1\" class=\"dataframe\">\n",
              "  <thead>\n",
              "    <tr style=\"text-align: right;\">\n",
              "      <th></th>\n",
              "      <th>emotion</th>\n",
              "      <th>pixels</th>\n",
              "      <th>Usage</th>\n",
              "    </tr>\n",
              "  </thead>\n",
              "  <tbody>\n",
              "    <tr>\n",
              "      <th>0</th>\n",
              "      <td>0</td>\n",
              "      <td>70 80 82 72 58 58 60 63 54 58 60 48 89 115 121...</td>\n",
              "      <td>Training</td>\n",
              "    </tr>\n",
              "    <tr>\n",
              "      <th>1</th>\n",
              "      <td>0</td>\n",
              "      <td>151 150 147 155 148 133 111 140 170 174 182 15...</td>\n",
              "      <td>Training</td>\n",
              "    </tr>\n",
              "    <tr>\n",
              "      <th>2</th>\n",
              "      <td>2</td>\n",
              "      <td>231 212 156 164 174 138 161 173 182 200 106 38...</td>\n",
              "      <td>Training</td>\n",
              "    </tr>\n",
              "    <tr>\n",
              "      <th>3</th>\n",
              "      <td>4</td>\n",
              "      <td>24 32 36 30 32 23 19 20 30 41 21 22 32 34 21 1...</td>\n",
              "      <td>Training</td>\n",
              "    </tr>\n",
              "    <tr>\n",
              "      <th>4</th>\n",
              "      <td>6</td>\n",
              "      <td>4 0 0 0 0 0 0 0 0 0 0 0 3 15 23 28 48 50 58 84...</td>\n",
              "      <td>Training</td>\n",
              "    </tr>\n",
              "    <tr>\n",
              "      <th>...</th>\n",
              "      <td>...</td>\n",
              "      <td>...</td>\n",
              "      <td>...</td>\n",
              "    </tr>\n",
              "    <tr>\n",
              "      <th>35882</th>\n",
              "      <td>6</td>\n",
              "      <td>50 36 17 22 23 29 33 39 34 37 37 37 39 43 48 5...</td>\n",
              "      <td>PrivateTest</td>\n",
              "    </tr>\n",
              "    <tr>\n",
              "      <th>35883</th>\n",
              "      <td>3</td>\n",
              "      <td>178 174 172 173 181 188 191 194 196 199 200 20...</td>\n",
              "      <td>PrivateTest</td>\n",
              "    </tr>\n",
              "    <tr>\n",
              "      <th>35884</th>\n",
              "      <td>0</td>\n",
              "      <td>17 17 16 23 28 22 19 17 25 26 20 24 31 19 27 9...</td>\n",
              "      <td>PrivateTest</td>\n",
              "    </tr>\n",
              "    <tr>\n",
              "      <th>35885</th>\n",
              "      <td>3</td>\n",
              "      <td>30 28 28 29 31 30 42 68 79 81 77 67 67 71 63 6...</td>\n",
              "      <td>PrivateTest</td>\n",
              "    </tr>\n",
              "    <tr>\n",
              "      <th>35886</th>\n",
              "      <td>2</td>\n",
              "      <td>19 13 14 12 13 16 21 33 50 57 71 84 97 108 122...</td>\n",
              "      <td>PrivateTest</td>\n",
              "    </tr>\n",
              "  </tbody>\n",
              "</table>\n",
              "<p>35887 rows × 3 columns</p>\n",
              "</div>"
            ],
            "text/plain": [
              "       emotion                                             pixels        Usage\n",
              "0            0  70 80 82 72 58 58 60 63 54 58 60 48 89 115 121...     Training\n",
              "1            0  151 150 147 155 148 133 111 140 170 174 182 15...     Training\n",
              "2            2  231 212 156 164 174 138 161 173 182 200 106 38...     Training\n",
              "3            4  24 32 36 30 32 23 19 20 30 41 21 22 32 34 21 1...     Training\n",
              "4            6  4 0 0 0 0 0 0 0 0 0 0 0 3 15 23 28 48 50 58 84...     Training\n",
              "...        ...                                                ...          ...\n",
              "35882        6  50 36 17 22 23 29 33 39 34 37 37 37 39 43 48 5...  PrivateTest\n",
              "35883        3  178 174 172 173 181 188 191 194 196 199 200 20...  PrivateTest\n",
              "35884        0  17 17 16 23 28 22 19 17 25 26 20 24 31 19 27 9...  PrivateTest\n",
              "35885        3  30 28 28 29 31 30 42 68 79 81 77 67 67 71 63 6...  PrivateTest\n",
              "35886        2  19 13 14 12 13 16 21 33 50 57 71 84 97 108 122...  PrivateTest\n",
              "\n",
              "[35887 rows x 3 columns]"
            ]
          },
          "metadata": {
            "tags": []
          },
          "execution_count": 5
        }
      ]
    },
    {
      "cell_type": "code",
      "metadata": {
        "id": "RE5u7-IOz_lW"
      },
      "source": [
        "train_samples = df[df['Usage']==\"Training\"]\n",
        "validation_samples = df[df[\"Usage\"]==\"PublicTest\"]\n",
        "test_samples = df[df[\"Usage\"]==\"PrivateTest\"]"
      ],
      "execution_count": 6,
      "outputs": []
    },
    {
      "cell_type": "code",
      "metadata": {
        "colab": {
          "base_uri": "https://localhost:8080/",
          "height": 419
        },
        "id": "8mx5MY3sz_lW",
        "outputId": "a7ad96e0-3109-41c2-80a4-25baa9ec29ce"
      },
      "source": [
        "train_samples"
      ],
      "execution_count": 7,
      "outputs": [
        {
          "output_type": "execute_result",
          "data": {
            "text/html": [
              "<div>\n",
              "<style scoped>\n",
              "    .dataframe tbody tr th:only-of-type {\n",
              "        vertical-align: middle;\n",
              "    }\n",
              "\n",
              "    .dataframe tbody tr th {\n",
              "        vertical-align: top;\n",
              "    }\n",
              "\n",
              "    .dataframe thead th {\n",
              "        text-align: right;\n",
              "    }\n",
              "</style>\n",
              "<table border=\"1\" class=\"dataframe\">\n",
              "  <thead>\n",
              "    <tr style=\"text-align: right;\">\n",
              "      <th></th>\n",
              "      <th>emotion</th>\n",
              "      <th>pixels</th>\n",
              "      <th>Usage</th>\n",
              "    </tr>\n",
              "  </thead>\n",
              "  <tbody>\n",
              "    <tr>\n",
              "      <th>0</th>\n",
              "      <td>0</td>\n",
              "      <td>70 80 82 72 58 58 60 63 54 58 60 48 89 115 121...</td>\n",
              "      <td>Training</td>\n",
              "    </tr>\n",
              "    <tr>\n",
              "      <th>1</th>\n",
              "      <td>0</td>\n",
              "      <td>151 150 147 155 148 133 111 140 170 174 182 15...</td>\n",
              "      <td>Training</td>\n",
              "    </tr>\n",
              "    <tr>\n",
              "      <th>2</th>\n",
              "      <td>2</td>\n",
              "      <td>231 212 156 164 174 138 161 173 182 200 106 38...</td>\n",
              "      <td>Training</td>\n",
              "    </tr>\n",
              "    <tr>\n",
              "      <th>3</th>\n",
              "      <td>4</td>\n",
              "      <td>24 32 36 30 32 23 19 20 30 41 21 22 32 34 21 1...</td>\n",
              "      <td>Training</td>\n",
              "    </tr>\n",
              "    <tr>\n",
              "      <th>4</th>\n",
              "      <td>6</td>\n",
              "      <td>4 0 0 0 0 0 0 0 0 0 0 0 3 15 23 28 48 50 58 84...</td>\n",
              "      <td>Training</td>\n",
              "    </tr>\n",
              "    <tr>\n",
              "      <th>...</th>\n",
              "      <td>...</td>\n",
              "      <td>...</td>\n",
              "      <td>...</td>\n",
              "    </tr>\n",
              "    <tr>\n",
              "      <th>28704</th>\n",
              "      <td>2</td>\n",
              "      <td>84 85 85 85 85 85 85 85 86 86 86 87 86 86 91 9...</td>\n",
              "      <td>Training</td>\n",
              "    </tr>\n",
              "    <tr>\n",
              "      <th>28705</th>\n",
              "      <td>0</td>\n",
              "      <td>114 112 113 113 111 111 112 113 115 113 114 11...</td>\n",
              "      <td>Training</td>\n",
              "    </tr>\n",
              "    <tr>\n",
              "      <th>28706</th>\n",
              "      <td>4</td>\n",
              "      <td>74 81 87 89 95 100 98 93 105 120 127 133 146 1...</td>\n",
              "      <td>Training</td>\n",
              "    </tr>\n",
              "    <tr>\n",
              "      <th>28707</th>\n",
              "      <td>0</td>\n",
              "      <td>222 227 203 90 86 90 84 77 94 87 99 119 134 14...</td>\n",
              "      <td>Training</td>\n",
              "    </tr>\n",
              "    <tr>\n",
              "      <th>28708</th>\n",
              "      <td>4</td>\n",
              "      <td>195 199 205 206 205 203 206 209 208 210 212 21...</td>\n",
              "      <td>Training</td>\n",
              "    </tr>\n",
              "  </tbody>\n",
              "</table>\n",
              "<p>28709 rows × 3 columns</p>\n",
              "</div>"
            ],
            "text/plain": [
              "       emotion                                             pixels     Usage\n",
              "0            0  70 80 82 72 58 58 60 63 54 58 60 48 89 115 121...  Training\n",
              "1            0  151 150 147 155 148 133 111 140 170 174 182 15...  Training\n",
              "2            2  231 212 156 164 174 138 161 173 182 200 106 38...  Training\n",
              "3            4  24 32 36 30 32 23 19 20 30 41 21 22 32 34 21 1...  Training\n",
              "4            6  4 0 0 0 0 0 0 0 0 0 0 0 3 15 23 28 48 50 58 84...  Training\n",
              "...        ...                                                ...       ...\n",
              "28704        2  84 85 85 85 85 85 85 85 86 86 86 87 86 86 91 9...  Training\n",
              "28705        0  114 112 113 113 111 111 112 113 115 113 114 11...  Training\n",
              "28706        4  74 81 87 89 95 100 98 93 105 120 127 133 146 1...  Training\n",
              "28707        0  222 227 203 90 86 90 84 77 94 87 99 119 134 14...  Training\n",
              "28708        4  195 199 205 206 205 203 206 209 208 210 212 21...  Training\n",
              "\n",
              "[28709 rows x 3 columns]"
            ]
          },
          "metadata": {
            "tags": []
          },
          "execution_count": 7
        }
      ]
    },
    {
      "cell_type": "code",
      "metadata": {
        "colab": {
          "base_uri": "https://localhost:8080/"
        },
        "id": "rr-mtDiAz_lX",
        "outputId": "eb6cb220-66ba-43ec-b5a1-8d5a6b455e83"
      },
      "source": [
        "train_samples[\"emotion\"]"
      ],
      "execution_count": 8,
      "outputs": [
        {
          "output_type": "execute_result",
          "data": {
            "text/plain": [
              "0        0\n",
              "1        0\n",
              "2        2\n",
              "3        4\n",
              "4        6\n",
              "        ..\n",
              "28704    2\n",
              "28705    0\n",
              "28706    4\n",
              "28707    0\n",
              "28708    4\n",
              "Name: emotion, Length: 28709, dtype: int64"
            ]
          },
          "metadata": {
            "tags": []
          },
          "execution_count": 8
        }
      ]
    },
    {
      "cell_type": "code",
      "metadata": {
        "id": "f2AjY4ijz_lX"
      },
      "source": [
        "y_train = train_samples[\"emotion\"].astype(np.int32).values\n",
        "y_valid = validation_samples[\"emotion\"].astype(np.int32).values\n",
        "y_test = test_samples[\"emotion\"].astype(np.int32).values"
      ],
      "execution_count": 9,
      "outputs": []
    },
    {
      "cell_type": "code",
      "metadata": {
        "colab": {
          "base_uri": "https://localhost:8080/"
        },
        "id": "psKcgbr-z_lX",
        "outputId": "f14c746d-3858-41a2-d8b8-b3faf7db9ae3"
      },
      "source": [
        "print(y_train)"
      ],
      "execution_count": 10,
      "outputs": [
        {
          "output_type": "stream",
          "text": [
            "[0 0 2 ... 4 0 4]\n"
          ],
          "name": "stdout"
        }
      ]
    },
    {
      "cell_type": "code",
      "metadata": {
        "id": "RRmAIhv5z_lY"
      },
      "source": [
        "X_train =np.array([ np.fromstring(image, np.uint8, sep=\" \").reshape((48,48)) for image in train_samples[\"pixels\"]])\n",
        "X_valid =np.array([ np.fromstring(image, np.uint8, sep=\" \").reshape((48,48)) for image in validation_samples[\"pixels\"]])\n",
        "X_test =np.array([ np.fromstring(image, np.uint8, sep=\" \").reshape((48,48)) for image in test_samples[\"pixels\"]])"
      ],
      "execution_count": 11,
      "outputs": []
    },
    {
      "cell_type": "code",
      "metadata": {
        "id": "VG-vXdPMz_lY",
        "colab": {
          "base_uri": "https://localhost:8080/"
        },
        "outputId": "c48becbc-2deb-4d14-c33e-1f5929183b7b"
      },
      "source": [
        "print(X_train)"
      ],
      "execution_count": 12,
      "outputs": [
        {
          "output_type": "stream",
          "text": [
            "[[[ 70  80  82 ...  52  43  41]\n",
            "  [ 65  61  58 ...  56  52  44]\n",
            "  [ 50  43  54 ...  49  56  47]\n",
            "  ...\n",
            "  [ 91  65  42 ...  72  56  43]\n",
            "  [ 77  82  79 ... 105  70  46]\n",
            "  [ 77  72  84 ... 106 109  82]]\n",
            "\n",
            " [[151 150 147 ... 129 140 120]\n",
            "  [151 149 149 ... 122 141 137]\n",
            "  [151 151 156 ... 109 123 146]\n",
            "  ...\n",
            "  [188 188 121 ... 185 185 186]\n",
            "  [188 187 196 ... 186 182 187]\n",
            "  [186 184 185 ... 193 183 184]]\n",
            "\n",
            " [[231 212 156 ...  44  27  16]\n",
            "  [229 175 148 ...  27  35  27]\n",
            "  [214 156 157 ...  28  22  28]\n",
            "  ...\n",
            "  [241 245 250 ...  57 101 146]\n",
            "  [246 250 252 ...  78 105 162]\n",
            "  [250 251 250 ...  88 110 152]]\n",
            "\n",
            " ...\n",
            "\n",
            " [[ 74  81  87 ... 189 191 192]\n",
            "  [ 78  82  89 ... 185 189 193]\n",
            "  [ 81  86  94 ... 176 185 193]\n",
            "  ...\n",
            "  [ 90  99 113 ... 192 195 197]\n",
            "  [ 88  96 114 ... 192 194 192]\n",
            "  [ 88  97 110 ... 188 187 187]]\n",
            "\n",
            " [[222 227 203 ... 138 132 122]\n",
            "  [222 226 203 ... 142 136 127]\n",
            "  [222 225 206 ... 147 143 129]\n",
            "  ...\n",
            "  [179 180 177 ... 141 139 137]\n",
            "  [188 182 176 ... 138 136 135]\n",
            "  [181 168 155 ... 136 136 134]]\n",
            "\n",
            " [[195 199 205 ... 182 140  77]\n",
            "  [193 196 202 ... 197 165 105]\n",
            "  [198 200 204 ... 208 196 157]\n",
            "  ...\n",
            "  [ 57  73  84 ...   3  20  33]\n",
            "  [ 61  73  96 ...   6  19  41]\n",
            "  [ 61  79  95 ...   6  15  38]]]\n"
          ],
          "name": "stdout"
        }
      ]
    },
    {
      "cell_type": "code",
      "metadata": {
        "id": "VqJp1_EKz_lY"
      },
      "source": [
        "model = keras.models.Sequential()\n",
        "\n",
        "model.add(keras.layers.Conv2D(64,(3,3), input_shape=(48,48, 1), padding=\"same\"))\n",
        "model.add(keras.layers.BatchNormalization())\n",
        "model.add(keras.layers.Activation('relu'))\n",
        "model.add(keras.layers.MaxPooling2D(pool_size = (2,2)))\n",
        "model.add(keras.layers.Dropout(0.2))\n",
        "\n",
        "model.add(keras.layers.Conv2D(128,(5,5), padding=\"same\"))\n",
        "model.add(keras.layers.BatchNormalization())\n",
        "model.add(keras.layers.Activation('relu'))\n",
        "model.add(keras.layers.MaxPooling2D(pool_size = (2,2)))\n",
        "model.add(keras.layers.Dropout(0.2))\n",
        "\n",
        "model.add(keras.layers.Conv2D(512,(3,3), padding=\"same\"))\n",
        "model.add(keras.layers.BatchNormalization())\n",
        "model.add(keras.layers.Activation('relu'))\n",
        "model.add(keras.layers.MaxPooling2D(pool_size = (1,1)))\n",
        "model.add(keras.layers.Dropout(0.2))\n",
        "\n",
        "model.add(keras.layers.Conv2D(512,(3,3)))\n",
        "model.add(keras.layers.BatchNormalization())\n",
        "model.add(keras.layers.Activation('relu'))\n",
        "model.add(keras.layers.MaxPooling2D(pool_size = (1,1)))\n",
        "model.add(keras.layers.Dropout(0.2))\n",
        "\n",
        "model.add(keras.layers.Flatten())\n",
        "model.add(keras.layers.Dense(256))\n",
        "model.add(keras.layers.BatchNormalization())\n",
        "model.add(keras.layers.Activation('relu'))\n",
        "model.add(keras.layers.Dropout(0.2))\n",
        "\n",
        "\n",
        "model.add(keras.layers.Dense(512, activation='relu'))\n",
        "model.add(keras.layers.BatchNormalization())\n",
        "model.add(keras.layers.Activation('relu'))\n",
        "model.add(keras.layers.Dropout(0.2))\n",
        "\n",
        "model.add(keras.layers.Dense(7,activation='softmax'))\n",
        "model.compile(loss=\"sparse_categorical_crossentropy\", optimizer=keras.optimizers.Adam(lr=0.001) , metrics=['accuracy'])"
      ],
      "execution_count": 16,
      "outputs": []
    },
    {
      "cell_type": "code",
      "metadata": {
        "id": "bVSQY2Edz_lZ",
        "colab": {
          "base_uri": "https://localhost:8080/"
        },
        "outputId": "34d24304-5775-4266-e572-a6395ad1de30"
      },
      "source": [
        "model.summary()"
      ],
      "execution_count": 14,
      "outputs": [
        {
          "output_type": "stream",
          "text": [
            "Model: \"sequential\"\n",
            "_________________________________________________________________\n",
            "Layer (type)                 Output Shape              Param #   \n",
            "=================================================================\n",
            "conv2d (Conv2D)              (None, 48, 48, 64)        640       \n",
            "_________________________________________________________________\n",
            "batch_normalization (BatchNo (None, 48, 48, 64)        256       \n",
            "_________________________________________________________________\n",
            "activation (Activation)      (None, 48, 48, 64)        0         \n",
            "_________________________________________________________________\n",
            "max_pooling2d (MaxPooling2D) (None, 24, 24, 64)        0         \n",
            "_________________________________________________________________\n",
            "dropout (Dropout)            (None, 24, 24, 64)        0         \n",
            "_________________________________________________________________\n",
            "conv2d_1 (Conv2D)            (None, 24, 24, 128)       204928    \n",
            "_________________________________________________________________\n",
            "batch_normalization_1 (Batch (None, 24, 24, 128)       512       \n",
            "_________________________________________________________________\n",
            "activation_1 (Activation)    (None, 24, 24, 128)       0         \n",
            "_________________________________________________________________\n",
            "max_pooling2d_1 (MaxPooling2 (None, 12, 12, 128)       0         \n",
            "_________________________________________________________________\n",
            "dropout_1 (Dropout)          (None, 12, 12, 128)       0         \n",
            "_________________________________________________________________\n",
            "conv2d_2 (Conv2D)            (None, 12, 12, 512)       590336    \n",
            "_________________________________________________________________\n",
            "batch_normalization_2 (Batch (None, 12, 12, 512)       2048      \n",
            "_________________________________________________________________\n",
            "activation_2 (Activation)    (None, 12, 12, 512)       0         \n",
            "_________________________________________________________________\n",
            "max_pooling2d_2 (MaxPooling2 (None, 12, 12, 512)       0         \n",
            "_________________________________________________________________\n",
            "dropout_2 (Dropout)          (None, 12, 12, 512)       0         \n",
            "_________________________________________________________________\n",
            "conv2d_3 (Conv2D)            (None, 10, 10, 512)       2359808   \n",
            "_________________________________________________________________\n",
            "batch_normalization_3 (Batch (None, 10, 10, 512)       2048      \n",
            "_________________________________________________________________\n",
            "activation_3 (Activation)    (None, 10, 10, 512)       0         \n",
            "_________________________________________________________________\n",
            "max_pooling2d_3 (MaxPooling2 (None, 10, 10, 512)       0         \n",
            "_________________________________________________________________\n",
            "dropout_3 (Dropout)          (None, 10, 10, 512)       0         \n",
            "_________________________________________________________________\n",
            "flatten (Flatten)            (None, 51200)             0         \n",
            "_________________________________________________________________\n",
            "dense (Dense)                (None, 256)               13107456  \n",
            "_________________________________________________________________\n",
            "batch_normalization_4 (Batch (None, 256)               1024      \n",
            "_________________________________________________________________\n",
            "activation_4 (Activation)    (None, 256)               0         \n",
            "_________________________________________________________________\n",
            "dropout_4 (Dropout)          (None, 256)               0         \n",
            "_________________________________________________________________\n",
            "dense_1 (Dense)              (None, 512)               131584    \n",
            "_________________________________________________________________\n",
            "batch_normalization_5 (Batch (None, 512)               2048      \n",
            "_________________________________________________________________\n",
            "activation_5 (Activation)    (None, 512)               0         \n",
            "_________________________________________________________________\n",
            "dropout_5 (Dropout)          (None, 512)               0         \n",
            "_________________________________________________________________\n",
            "dense_2 (Dense)              (None, 7)                 3591      \n",
            "=================================================================\n",
            "Total params: 16,406,279\n",
            "Trainable params: 16,402,311\n",
            "Non-trainable params: 3,968\n",
            "_________________________________________________________________\n"
          ],
          "name": "stdout"
        }
      ]
    },
    {
      "cell_type": "code",
      "metadata": {
        "id": "dffb48wez_lZ",
        "colab": {
          "base_uri": "https://localhost:8080/"
        },
        "outputId": "53893ada-e04a-4d1d-e3a7-62aa6cd6d9ca"
      },
      "source": [
        "\n",
        "X_train = X_train.reshape((-1,48,48,1)).astype(np.float32)\n",
        "X_valid = X_valid.reshape((-1,48,48,1)).astype(np.float32)\n",
        "X_test = X_test.reshape((-1,48,48,1)).astype(np.float32)\n",
        "\n",
        "X_train_std = X_train/255.\n",
        "X_valid_std = X_valid/255.\n",
        "X_test_std = X_test/255.\n",
        "\n",
        "\n",
        "history = model.fit(X_train_std, y_train,batch_size=128,epochs=35, validation_data=(X_valid_std, y_valid), shuffle=True)\n",
        "\n"
      ],
      "execution_count": 17,
      "outputs": [
        {
          "output_type": "stream",
          "text": [
            "Epoch 1/35\n",
            "225/225 [==============================] - 16s 66ms/step - loss: 1.9488 - accuracy: 0.2977 - val_loss: 2.2432 - val_accuracy: 0.1819\n",
            "Epoch 2/35\n",
            "225/225 [==============================] - 15s 66ms/step - loss: 1.4245 - accuracy: 0.4514 - val_loss: 1.5055 - val_accuracy: 0.3957\n",
            "Epoch 3/35\n",
            "225/225 [==============================] - 15s 66ms/step - loss: 1.2183 - accuracy: 0.5384 - val_loss: 1.2375 - val_accuracy: 0.5294\n",
            "Epoch 4/35\n",
            "225/225 [==============================] - 15s 67ms/step - loss: 1.0985 - accuracy: 0.5830 - val_loss: 1.1839 - val_accuracy: 0.5536\n",
            "Epoch 5/35\n",
            "225/225 [==============================] - 15s 67ms/step - loss: 1.0192 - accuracy: 0.6152 - val_loss: 1.1531 - val_accuracy: 0.5687\n",
            "Epoch 6/35\n",
            "225/225 [==============================] - 15s 68ms/step - loss: 0.9249 - accuracy: 0.6515 - val_loss: 1.2176 - val_accuracy: 0.5433\n",
            "Epoch 7/35\n",
            "225/225 [==============================] - 15s 69ms/step - loss: 0.8411 - accuracy: 0.6819 - val_loss: 1.2352 - val_accuracy: 0.5478\n",
            "Epoch 8/35\n",
            "225/225 [==============================] - 16s 69ms/step - loss: 0.7531 - accuracy: 0.7219 - val_loss: 1.3532 - val_accuracy: 0.5430\n",
            "Epoch 9/35\n",
            "225/225 [==============================] - 15s 68ms/step - loss: 0.6807 - accuracy: 0.7467 - val_loss: 1.2352 - val_accuracy: 0.5743\n",
            "Epoch 10/35\n",
            "225/225 [==============================] - 15s 68ms/step - loss: 0.5907 - accuracy: 0.7869 - val_loss: 1.2580 - val_accuracy: 0.5793\n",
            "Epoch 11/35\n",
            "225/225 [==============================] - 15s 69ms/step - loss: 0.5079 - accuracy: 0.8157 - val_loss: 1.3163 - val_accuracy: 0.5826\n",
            "Epoch 12/35\n",
            "225/225 [==============================] - 15s 68ms/step - loss: 0.4494 - accuracy: 0.8345 - val_loss: 1.6249 - val_accuracy: 0.5536\n",
            "Epoch 13/35\n",
            "225/225 [==============================] - 15s 69ms/step - loss: 0.3730 - accuracy: 0.8671 - val_loss: 1.7629 - val_accuracy: 0.5383\n",
            "Epoch 14/35\n",
            "225/225 [==============================] - 15s 69ms/step - loss: 0.3144 - accuracy: 0.8888 - val_loss: 1.4908 - val_accuracy: 0.5776\n",
            "Epoch 15/35\n",
            "225/225 [==============================] - 15s 68ms/step - loss: 0.2911 - accuracy: 0.8980 - val_loss: 1.5217 - val_accuracy: 0.5999\n",
            "Epoch 16/35\n",
            "225/225 [==============================] - 15s 68ms/step - loss: 0.2492 - accuracy: 0.9132 - val_loss: 1.7780 - val_accuracy: 0.5918\n",
            "Epoch 17/35\n",
            "225/225 [==============================] - 15s 68ms/step - loss: 0.2176 - accuracy: 0.9224 - val_loss: 1.6104 - val_accuracy: 0.5862\n",
            "Epoch 18/35\n",
            "225/225 [==============================] - 15s 68ms/step - loss: 0.1901 - accuracy: 0.9367 - val_loss: 1.5671 - val_accuracy: 0.6080\n",
            "Epoch 19/35\n",
            "225/225 [==============================] - 15s 69ms/step - loss: 0.1683 - accuracy: 0.9424 - val_loss: 2.0469 - val_accuracy: 0.5598\n",
            "Epoch 20/35\n",
            "225/225 [==============================] - 15s 69ms/step - loss: 0.1704 - accuracy: 0.9413 - val_loss: 1.7546 - val_accuracy: 0.6124\n",
            "Epoch 21/35\n",
            "225/225 [==============================] - 15s 69ms/step - loss: 0.1321 - accuracy: 0.9550 - val_loss: 1.8453 - val_accuracy: 0.6032\n",
            "Epoch 22/35\n",
            "225/225 [==============================] - 15s 68ms/step - loss: 0.1326 - accuracy: 0.9551 - val_loss: 2.2347 - val_accuracy: 0.5322\n",
            "Epoch 23/35\n",
            "225/225 [==============================] - 15s 68ms/step - loss: 0.1218 - accuracy: 0.9595 - val_loss: 1.8632 - val_accuracy: 0.6013\n",
            "Epoch 24/35\n",
            "225/225 [==============================] - 15s 68ms/step - loss: 0.1190 - accuracy: 0.9599 - val_loss: 1.9676 - val_accuracy: 0.5938\n",
            "Epoch 25/35\n",
            "225/225 [==============================] - 15s 68ms/step - loss: 0.1073 - accuracy: 0.9616 - val_loss: 1.9521 - val_accuracy: 0.6049\n",
            "Epoch 26/35\n",
            "225/225 [==============================] - 15s 69ms/step - loss: 0.0976 - accuracy: 0.9655 - val_loss: 2.0678 - val_accuracy: 0.5879\n",
            "Epoch 27/35\n",
            "225/225 [==============================] - 16s 70ms/step - loss: 0.1018 - accuracy: 0.9633 - val_loss: 1.9263 - val_accuracy: 0.6010\n",
            "Epoch 28/35\n",
            "225/225 [==============================] - 15s 68ms/step - loss: 0.0954 - accuracy: 0.9692 - val_loss: 2.1745 - val_accuracy: 0.5793\n",
            "Epoch 29/35\n",
            "225/225 [==============================] - 15s 69ms/step - loss: 0.0911 - accuracy: 0.9696 - val_loss: 2.0189 - val_accuracy: 0.5804\n",
            "Epoch 30/35\n",
            "225/225 [==============================] - 15s 68ms/step - loss: 0.0940 - accuracy: 0.9679 - val_loss: 2.0921 - val_accuracy: 0.6041\n",
            "Epoch 31/35\n",
            "225/225 [==============================] - 15s 68ms/step - loss: 0.0840 - accuracy: 0.9706 - val_loss: 2.0664 - val_accuracy: 0.5876\n",
            "Epoch 32/35\n",
            "225/225 [==============================] - 15s 68ms/step - loss: 0.0810 - accuracy: 0.9736 - val_loss: 2.0681 - val_accuracy: 0.5979\n",
            "Epoch 33/35\n",
            "225/225 [==============================] - 15s 68ms/step - loss: 0.0889 - accuracy: 0.9701 - val_loss: 2.2853 - val_accuracy: 0.5901\n",
            "Epoch 34/35\n",
            "225/225 [==============================] - 15s 68ms/step - loss: 0.0846 - accuracy: 0.9727 - val_loss: 2.1693 - val_accuracy: 0.5957\n",
            "Epoch 35/35\n",
            "225/225 [==============================] - 15s 68ms/step - loss: 0.0712 - accuracy: 0.9754 - val_loss: 2.3146 - val_accuracy: 0.6144\n"
          ],
          "name": "stdout"
        }
      ]
    },
    {
      "cell_type": "code",
      "metadata": {
        "colab": {
          "base_uri": "https://localhost:8080/"
        },
        "id": "3iNSF5PCHBq0",
        "outputId": "b9dfc25d-512b-4f76-b4ca-a99b65e430b6"
      },
      "source": [
        "print(\"Evaluate on test data\")\r\n",
        "results = model.evaluate(X_test_std, y_test)\r\n",
        "print(\"test loss, test accuracy:\", results)"
      ],
      "execution_count": 69,
      "outputs": [
        {
          "output_type": "stream",
          "text": [
            "Evaluate on test data\n",
            "113/113 [==============================] - 1s 7ms/step - loss: 2.2752 - accuracy: 0.6130\n",
            "test loss, test accuracy: [2.275212049484253, 0.6129841208457947]\n"
          ],
          "name": "stdout"
        }
      ]
    },
    {
      "cell_type": "code",
      "metadata": {
        "id": "ocH8B3woHOfF"
      },
      "source": [
        "predictions = model.predict(X_test_std)\r\n",
        "predictions_new = np.argmax(predictions, axis=1)"
      ],
      "execution_count": 64,
      "outputs": []
    },
    {
      "cell_type": "code",
      "metadata": {
        "colab": {
          "base_uri": "https://localhost:8080/",
          "height": 328
        },
        "id": "giz8XvxAKAGZ",
        "outputId": "9e4561e0-6f2b-4d23-e369-d0eec7eb0e5e"
      },
      "source": [
        "from sklearn.metrics import confusion_matrix\r\n",
        "import seaborn as sns\r\n",
        "cm = confusion_matrix(y_test, predictions_new)\r\n",
        "data_frame = pd.DataFrame(cm)\r\n",
        "data_frame.rename(columns = {0:'Angry',1:'Disgust',2:'Fear',3:'Happy',4:'Sad',5:'Surprise',6:'Neutral'},inplace = True)\r\n",
        "data_frame.rename(index = {0:'Angry',1:'Disgust',2:'Fear',3:'Happy',4:'Sad',5:'Surprise',6:'Neutral'},inplace = True)\r\n",
        "sns.heatmap(data_frame, annot=True, fmt='g')\r\n",
        "plt.xlabel(\"Predicted Labels\")\r\n",
        "plt.ylabel(\"True Labels\")"
      ],
      "execution_count": 68,
      "outputs": [
        {
          "output_type": "execute_result",
          "data": {
            "text/plain": [
              "Text(33.0, 0.5, 'True Labels')"
            ]
          },
          "metadata": {
            "tags": []
          },
          "execution_count": 68
        },
        {
          "output_type": "display_data",
          "data": {
            "image/png": "[encoded data removed]",
            "text/plain": [
              "<Figure size 432x288 with 2 Axes>"
            ]
          },
          "metadata": {
            "tags": [],
            "needs_background": "light"
          }
        }
      ]
    },
    {
      "cell_type": "code",
      "metadata": {
        "id": "AxcUcv2zz_lZ",
        "colab": {
          "base_uri": "https://localhost:8080/",
          "height": 300
        },
        "outputId": "7a8a8659-fefc-444c-df3a-800b82149240"
      },
      "source": [
        "import matplotlib.pyplot as plt\r\n",
        "plt.plot(history.history['accuracy'], label='accuracy')\r\n",
        "plt.plot(history.history['val_accuracy'], label = 'val_accuracy')\r\n",
        "\r\n",
        "plt.xlabel('Epoch')\r\n",
        "plt.ylabel('Accuracy')\r\n",
        "plt.ylim([0, 1])\r\n",
        "plt.legend(loc='lower right')"
      ],
      "execution_count": 21,
      "outputs": [
        {
          "output_type": "execute_result",
          "data": {
            "text/plain": [
              "<matplotlib.legend.Legend at 0x7fabb698c240>"
            ]
          },
          "metadata": {
            "tags": []
          },
          "execution_count": 21
        },
        {
          "output_type": "display_data",
          "data": {
            "image/png": "[encoded data removed]",
            "text/plain": [
              "<Figure size 432x288 with 1 Axes>"
            ]
          },
          "metadata": {
            "tags": [],
            "needs_background": "light"
          }
        }
      ]
    },
    {
      "cell_type": "code",
      "metadata": {
        "colab": {
          "base_uri": "https://localhost:8080/",
          "height": 300
        },
        "id": "t8ga7ze8zCb1",
        "outputId": "4f307672-8ba9-4011-b906-2bf469f88854"
      },
      "source": [
        "plt.plot(history.history['loss'], label = 'loss')\r\n",
        "plt.xlabel('Epoch')\r\n",
        "plt.ylabel('Loss')\r\n",
        "plt.ylim([0, 2])\r\n",
        "plt.legend(loc='lower right')"
      ],
      "execution_count": 59,
      "outputs": [
        {
          "output_type": "execute_result",
          "data": {
            "text/plain": [
              "<matplotlib.legend.Legend at 0x7face9183208>"
            ]
          },
          "metadata": {
            "tags": []
          },
          "execution_count": 59
        },
        {
          "output_type": "display_data",
          "data": {
            "image/png": "[encoded data removed]",
            "text/plain": [
              "<Figure size 432x288 with 1 Axes>"
            ]
          },
          "metadata": {
            "tags": [],
            "needs_background": "light"
          }
        }
      ]
    }
  ]
}